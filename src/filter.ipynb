{
  "nbformat": 4,
  "nbformat_minor": 0,
  "metadata": {
    "colab": {
      "provenance": []
    },
    "kernelspec": {
      "name": "python3",
      "display_name": "Python 3"
    },
    "language_info": {
      "name": "python"
    }
  },
  "cells": [
    {
      "cell_type": "code",
      "source": [
        "from google.colab import drive\n",
        "drive.mount('/content/drive')"
      ],
      "metadata": {
        "id": "HRQuJLvMWxZo"
      },
      "execution_count": null,
      "outputs": []
    },
    {
      "cell_type": "code",
      "execution_count": null,
      "metadata": {
        "id": "bTwdtRU4MjBi"
      },
      "outputs": [],
      "source": [
        "!pip install wfdb"
      ]
    },
    {
      "cell_type": "code",
      "source": [
        "import os\n",
        "\n",
        "import wfdb"
      ],
      "metadata": {
        "id": "JMsGoIeCMt9o"
      },
      "execution_count": 2,
      "outputs": []
    },
    {
      "cell_type": "markdown",
      "source": [
        "[MIMIC-III Waveform Database Matched Subset](https://physionet.org/content/mimic3wdb-matched/1.0/)"
      ],
      "metadata": {
        "id": "RC-TavbGPouw"
      }
    },
    {
      "cell_type": "markdown",
      "source": [
        "ABP and NBP"
      ],
      "metadata": {
        "id": "tgFTSdL2PA7X"
      }
    },
    {
      "cell_type": "code",
      "source": [
        "with open('/content/RECORDS-numerics', 'r') as input_file:\n",
        "    with open('/content/RECORDS-numerics_ABP', 'a') as a_output_file:\n",
        "        with open('/content/RECORDS-numerics_NBP', 'a') as n_output_file:\n",
        "            for line in input_file:\n",
        "                line = line.strip()\n",
        "                parts = line.rsplit('/', 1)\n",
        "                if len(parts) == 2:\n",
        "                    pn_dir, record_name = parts\n",
        "                    pn_dir = os.path.join(\"mimic3wdb-matched\", pn_dir)\n",
        "                    record = wfdb.rdheader(record_name, pn_dir)\n",
        "                    if record.sig_name:\n",
        "                        if any(\"nbp\".casefold() in sig for sig in (sig_name.casefold() for sig_name in record.sig_name)):\n",
        "                            n_output_file.write(line + '\\n')\n",
        "                        if any(\"abp\".casefold() in sig for sig in (sig_name.casefold() for sig_name in record.sig_name)):\n",
        "                            a_output_file.write(line + '\\n')"
      ],
      "metadata": {
        "id": "adsaBamDMyzI"
      },
      "execution_count": 7,
      "outputs": []
    },
    {
      "cell_type": "markdown",
      "source": [
        "PPG (PLETH)"
      ],
      "metadata": {
        "id": "HscLQhwEPSA1"
      }
    },
    {
      "cell_type": "code",
      "source": [
        "with open('/content/RECORDS-waveforms', 'r') as input_file:\n",
        "    with open('/content/RECORDS-waveforms_PPG', 'a') as output_file:\n",
        "        for line in input_file:\n",
        "            line = line.strip()\n",
        "            parts = line.rsplit('/', 1)\n",
        "            if len(parts) == 2:\n",
        "                pn_dir, record_name = parts\n",
        "                pn_dir = os.path.join(\"mimic3wdb-matched\", pn_dir)\n",
        "                record = wfdb.rdheader(record_name, pn_dir)\n",
        "                record_layout = wfdb.rdheader(record.seg_name[0], pn_dir)\n",
        "                if record_layout.sig_name and 'PLETH' in record_layout.sig_name:\n",
        "                    output_file.write(line + '\\n')"
      ],
      "metadata": {
        "id": "Y5NshZQ9PLvY"
      },
      "execution_count": null,
      "outputs": []
    }
  ]
}